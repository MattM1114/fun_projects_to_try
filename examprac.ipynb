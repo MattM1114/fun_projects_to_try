{
 "cells": [
  {
   "cell_type": "code",
   "execution_count": null,
   "metadata": {},
   "outputs": [
    {
     "name": "stdout",
     "output_type": "stream",
     "text": [
      "Title: Home - Richfield education changes lives\n",
      "The word \"education\" appears 8 times in the webpage.\n"
     ]
    }
   ],
   "source": [
    "import requests\n",
    "from bs4 import BeautifulSoup\n",
    "import pandas as pd\n",
    "\n",
    "def get_word_count(url,target_word):\n",
    "# Send a GET request\n",
    "    try:\n",
    "        response = requests.get(url)\n",
    "        soup = BeautifulSoup(response.content, 'html.parser')\n",
    "        \n",
    "        title = soup.find('title').text()\n",
    "        print('Title: {title}')\n",
    "        \n",
    "        body_text = soup.get_text()\n",
    "        word_count = body_text.lower().count(target_word.lower())\n",
    "        \n",
    "        print(f'The word \"{target_word}\" appears {word_count} times in the webpage.')\n",
    "\n",
    "    except Exception as e:\n",
    "        print(f'An error occurred: {e}')\n",
    "\n",
    "u = 'https://www.richfield.ac.za'\n",
    "\n",
    "t_word = 'education'\n",
    "\n",
    "\n",
    "get_word_count(u,t_word)"
   ]
  },
  {
   "cell_type": "code",
   "execution_count": 3,
   "metadata": {},
   "outputs": [
    {
     "name": "stdout",
     "output_type": "stream",
     "text": [
      "Intercept: 1.5000000000000007\n",
      "Slope: [0.8]\n"
     ]
    }
   ],
   "source": [
    "from sklearn.linear_model import LinearRegression\n",
    "X = [[1], [2], [3], [4]]\n",
    "y = [2, 3, 5, 4]\n",
    "model = LinearRegression()\n",
    "model.fit(X, y)\n",
    "print(\"Intercept:\", model.intercept_)\n",
    "print(\"Slope:\", model.coef_)\n"
   ]
  },
  {
   "cell_type": "code",
   "execution_count": 4,
   "metadata": {},
   "outputs": [
    {
     "name": "stdout",
     "output_type": "stream",
     "text": [
      "Mean: 63.6\n",
      "Median: 55.0\n",
      "Variance: 301.84000000000003\n",
      "Standard Deviation: 17.3735431043872\n"
     ]
    }
   ],
   "source": [
    "import numpy as np\n",
    "data = [55, 78, 90, 50, 45]\n",
    "print(\"Mean:\", np.mean(data))\n",
    "print(\"Median:\", np.median(data))\n",
    "print(\"Variance:\", np.var(data))\n",
    "print(\"Standard Deviation:\", np.std(data))\n"
   ]
  },
  {
   "cell_type": "code",
   "execution_count": 10,
   "metadata": {},
   "outputs": [
    {
     "name": "stdout",
     "output_type": "stream",
     "text": [
      "Simulated roll: 3\n"
     ]
    }
   ],
   "source": [
    "import random\n",
    "outcomes = [1, 2, 3, 4, 5, 6]\n",
    "print(\"Simulated roll:\", random.choice(outcomes))\n"
   ]
  },
  {
   "cell_type": "code",
   "execution_count": 11,
   "metadata": {},
   "outputs": [
    {
     "name": "stdout",
     "output_type": "stream",
     "text": [
      "    Name  Score\n",
      "0  Alice     90\n",
      "1    Bob     80\n"
     ]
    }
   ],
   "source": [
    "import pandas as pd\n",
    "df = pd.DataFrame({\n",
    "    'Name': ['Alice', 'Bob'],\n",
    "    'Score': [90, 80]\n",
    "})\n",
    "print(df)\n"
   ]
  },
  {
   "cell_type": "code",
   "execution_count": 12,
   "metadata": {},
   "outputs": [
    {
     "name": "stdout",
     "output_type": "stream",
     "text": [
      "    Name  Score\n",
      "0  Alice     90\n"
     ]
    }
   ],
   "source": [
    "filtered = df[df['Score'] > 85]\n",
    "print(filtered)\n"
   ]
  },
  {
   "cell_type": "code",
   "execution_count": 13,
   "metadata": {},
   "outputs": [
    {
     "data": {
      "image/png": "[encoded data removed]",
      "text/plain": [
       "<Figure size 640x480 with 1 Axes>"
      ]
     },
     "metadata": {},
     "output_type": "display_data"
    }
   ],
   "source": [
    "import matplotlib.pyplot as plt\n",
    "categories = ['A', 'B']\n",
    "group1 = [10, 20]\n",
    "group2 = [15, 25]\n",
    "\n",
    "plt.bar(categories, group1, label='Group 1')\n",
    "plt.bar(categories, group2, bottom=group1, label='Group 2')\n",
    "plt.legend()\n",
    "plt.show()\n"
   ]
  },
  {
   "cell_type": "code",
   "execution_count": 14,
   "metadata": {},
   "outputs": [
    {
     "data": {
      "image/png": "[encoded data removed]",
      "text/plain": [
       "<Figure size 640x480 with 2 Axes>"
      ]
     },
     "metadata": {},
     "output_type": "display_data"
    }
   ],
   "source": [
    "fig, axes = plt.subplots(1, 2)\n",
    "axes[0].bar(categories, group1)\n",
    "axes[1].bar(categories, group2)\n",
    "plt.show()\n"
   ]
  },
  {
   "cell_type": "code",
   "execution_count": 15,
   "metadata": {},
   "outputs": [
    {
     "name": "stdout",
     "output_type": "stream",
     "text": [
      "Coefficients: [11.66666667 -1.66666667  6.66666667]\n",
      "Intercept: 38.333333333333364\n"
     ]
    }
   ],
   "source": [
    "import pandas as pd\n",
    "from sklearn.linear_model import LinearRegression\n",
    "\n",
    "# Example dataset\n",
    "data = pd.DataFrame({\n",
    "    'Experience': [1, 2, 3],\n",
    "    'Degree': ['Bachelor', 'Master', 'PhD'],\n",
    "    'Salary': [50, 60, 80]\n",
    "})\n",
    "\n",
    "# Create dummy variables\n",
    "data = pd.get_dummies(data, columns=['Degree'], drop_first=True)\n",
    "\n",
    "# Fit the regression model\n",
    "X = data[['Experience', 'Degree_Master', 'Degree_PhD']]\n",
    "y = data['Salary']\n",
    "model = LinearRegression().fit(X, y)\n",
    "print(\"Coefficients:\", model.coef_)\n",
    "print(\"Intercept:\", model.intercept_)\n"
   ]
  },
  {
   "cell_type": "code",
   "execution_count": 1,
   "metadata": {},
   "outputs": [
    {
     "name": "stdout",
     "output_type": "stream",
     "text": [
      "Predictions: [60000.] [90000.]\n"
     ]
    },
    {
     "name": "stderr",
     "output_type": "stream",
     "text": [
      "C:\\Users\\mattm\\AppData\\Local\\Packages\\PythonSoftwareFoundation.Python.3.12_qbz5n2kfra8p0\\LocalCache\\local-packages\\Python312\\site-packages\\sklearn\\base.py:493: UserWarning: X does not have valid feature names, but LinearRegression was fitted with feature names\n",
      "  warnings.warn(\n",
      "C:\\Users\\mattm\\AppData\\Local\\Packages\\PythonSoftwareFoundation.Python.3.12_qbz5n2kfra8p0\\LocalCache\\local-packages\\Python312\\site-packages\\sklearn\\base.py:493: UserWarning: X does not have valid feature names, but LinearRegression was fitted with feature names\n",
      "  warnings.warn(\n"
     ]
    }
   ],
   "source": [
    "import pandas as pd\n",
    "from sklearn.linear_model import LinearRegression\n",
    "\n",
    "data = pd.DataFrame({\n",
    "    'Experience': [1, 3, 5, 7],\n",
    "    'Degree': ['Bachelor', 'Bachelor', 'Master', 'PhD'],\n",
    "    'Salary': [45000, 55000, 75000, 95000]\n",
    "})\n",
    "\n",
    "data = pd.get_dummies(data, columns=['Degree'], drop_first=True)\n",
    "X = data[['Experience', 'Degree_Master', 'Degree_PhD']]\n",
    "y = data['Salary']\n",
    "\n",
    "model = LinearRegression()\n",
    "model.fit(X, y)\n",
    "\n",
    "# Predictions\n",
    "predict_1 = model.predict([[2, 1, 0]])  # 2 years, Master\n",
    "predict_2 = model.predict([[6, 0, 1]])  # 6 years, PhD\n",
    "print(\"Predictions:\", predict_1, predict_2)\n"
   ]
  }
 ],
 "metadata": {
  "kernelspec": {
   "display_name": "Python 3",
   "language": "python",
   "name": "python3"
  },
  "language_info": {
   "codemirror_mode": {
    "name": "ipython",
    "version": 3
   },
   "file_extension": ".py",
   "mimetype": "text/x-python",
   "name": "python",
   "nbconvert_exporter": "python",
   "pygments_lexer": "ipython3",
   "version": "3.12.7"
  }
 },
 "nbformat": 4,
 "nbformat_minor": 2
}
